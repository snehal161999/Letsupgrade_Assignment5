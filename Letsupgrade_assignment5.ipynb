{
 "cells": [
  {
   "cell_type": "markdown",
   "metadata": {},
   "source": [
    "Assignment1\n",
    "\n",
    "[0,1,2,10,4,1,0,56,2,0,1,3,0,56,0,4] sort increasing order but all zeros should be at right hand side"
   ]
  },
  {
   "cell_type": "code",
   "execution_count": 1,
   "metadata": {},
   "outputs": [
    {
     "name": "stdout",
     "output_type": "stream",
     "text": [
      "[0, 0, 0, 0, 0, 1, 1, 1, 2, 2, 3, 4, 4, 10, 56, 56]\n"
     ]
    }
   ],
   "source": [
    "a=(0,1,2,10,4,1,0,56,2,0,1,3,0,56,0,4)\n",
    "x=sorted(a)\n",
    "print(x)"
   ]
  },
  {
   "cell_type": "markdown",
   "metadata": {},
   "source": [
    "Assignment2"
   ]
  },
  {
   "cell_type": "code",
   "execution_count": 18,
   "metadata": {},
   "outputs": [
    {
     "name": "stdout",
     "output_type": "stream",
     "text": [
      "The list1 is[10, 20, 40, 60, 70, 80]\n",
      "The list2 is[5, 15, 25, 35, 45, 60]\n",
      "The combined sorted list is:[5, 10, 15, 20, 25, 35, 40, 45, 60, 60, 70, 80]\n"
     ]
    }
   ],
   "source": [
    "list1=[10,20,40,60,70,80]\n",
    "list2=[5,15,25,35,45,60]\n",
    "print(\"The list1 is\" + str(list1))\n",
    "print(\"The list2 is\" + str(list2))\n",
    "\n",
    "\n",
    "size1=len(list1)\n",
    "size2=len(list2)\n",
    "res=[]\n",
    "i,j=0,0\n",
    "\n",
    "while i<size1 and j<size2:\n",
    "    if list1[i] < list2[j]:\n",
    "        res.append(list1[i])\n",
    "        i+=1\n",
    "    else:\n",
    "        res.append(list2[j])\n",
    "        j+=1\n",
    "res=res+list1[i:]+list2[j:]  \n",
    "print(\"The combined sorted list is:\" + str(res))\n",
    "        "
   ]
  },
  {
   "cell_type": "code",
   "execution_count": null,
   "metadata": {},
   "outputs": [],
   "source": []
  }
 ],
 "metadata": {
  "kernelspec": {
   "display_name": "Python 3",
   "language": "python",
   "name": "python3"
  },
  "language_info": {
   "codemirror_mode": {
    "name": "ipython",
    "version": 3
   },
   "file_extension": ".py",
   "mimetype": "text/x-python",
   "name": "python",
   "nbconvert_exporter": "python",
   "pygments_lexer": "ipython3",
   "version": "3.7.6"
  }
 },
 "nbformat": 4,
 "nbformat_minor": 4
}
